{
 "cells": [
  {
   "cell_type": "code",
   "execution_count": 15,
   "metadata": {},
   "outputs": [],
   "source": [
    "import pandas as pd\n",
    "import spacy\n",
    "import re\n",
    "import enchant\n",
    "import sys\n",
    "import numpy as np\n",
    "sys.path.append('../preprocess')\n",
    "from preprocess import load_data"
   ]
  },
  {
   "cell_type": "code",
   "execution_count": 16,
   "metadata": {},
   "outputs": [],
   "source": [
    "# Load SpaCy's English model\n",
    "nlp = spacy.load(\"en_core_web_sm\")\n",
    "d = enchant.Dict(\"en_US\")"
   ]
  },
  {
   "cell_type": "code",
   "execution_count": 17,
   "metadata": {},
   "outputs": [],
   "source": [
    "# Define the slang removal function\n",
    "def remove_slang(text):\n",
    "    \"\"\"Remove slang and words with repeated characters or excessive length.\"\"\"\n",
    "    # Remove words that are longer than a certain length or contain repeated characters\n",
    "    cleaned_text = re.sub(r'\\b(\\w)\\1{2,}\\b', '', text)  # Remove repeated characters\n",
    "    cleaned_text = ' '.join([word for word in cleaned_text.split() if len(word) <= 15])  # Remove overly long words\n",
    "    return cleaned_text"
   ]
  },
  {
   "cell_type": "code",
   "execution_count": 18,
   "metadata": {},
   "outputs": [],
   "source": [
    "def remove_non_english(text):\n",
    "    \"\"\"Remove non-English words and gibberish.\"\"\"\n",
    "    words = text.split()\n",
    "    cleaned_words = [word for word in words if d.check(re.sub(r'[^a-zA-Z]', '', word)) and len(word) > 2]\n",
    "    return ' '.join(cleaned_words)"
   ]
  },
  {
   "cell_type": "code",
   "execution_count": 19,
   "metadata": {},
   "outputs": [],
   "source": [
    "# Define the preprocessing pipeline function\n",
    "def preprocess_pipeline(text):\n",
    "    \"\"\"Clean the text using a predefined set of rules.\"\"\"\n",
    "    # Step 1: Remove slang\n",
    "    cleaned_text = remove_slang(text)\n",
    "    cleaned_text = remove_non_english(cleaned_text)\n",
    "    # Step 2: Process the text using SpaCy\n",
    "    doc = nlp(cleaned_text)\n",
    "    \n",
    "    # Step 3: Extract nouns and proper nouns\n",
    "    nouns = [token.text for token in doc if token.pos_ in ['NOUN', 'PROPN']]  # NOUN for common nouns, PROPN for proper nouns\n",
    "    \n",
    "    # Return the extracted nouns as a string\n",
    "    return ' '.join(nouns)"
   ]
  },
  {
   "cell_type": "code",
   "execution_count": 20,
   "metadata": {},
   "outputs": [
    {
     "name": "stdout",
     "output_type": "stream",
     "text": [
      "Preprocessing complete. The cleaned data is saved as 'combined_preprocessed_denoised.csv'.\n"
     ]
    }
   ],
   "source": [
    "file_path = \"../data/data/preprocessed/combined_preprocessed.csv\"\n",
    "\n",
    "# Read the CSV file into a pandas DataFrame\n",
    "df = load_data(file_path)\n",
    "\n",
    "# Apply the preprocessing pipeline to the text column (adjust the column name as necessary)\n",
    "df['processed_text'] = df['cleaned_text'].apply(preprocess_pipeline)  # Assuming 'text' is the column name\n",
    "\n",
    "# Save the new DataFrame to a new CSV file\n",
    "df.to_csv(\"../data/data/preprocessed/combined_preprocessed_denoised.csv\", index=False)\n",
    "\n",
    "print(\"Preprocessing complete. The cleaned data is saved as 'combined_preprocessed_denoised.csv'.\")"
   ]
  },
  {
   "cell_type": "code",
   "execution_count": null,
   "metadata": {},
   "outputs": [],
   "source": []
  }
 ],
 "metadata": {
  "kernelspec": {
   "display_name": "fai",
   "language": "python",
   "name": "python3"
  },
  "language_info": {
   "codemirror_mode": {
    "name": "ipython",
    "version": 3
   },
   "file_extension": ".py",
   "mimetype": "text/x-python",
   "name": "python",
   "nbconvert_exporter": "python",
   "pygments_lexer": "ipython3",
   "version": "3.12.4"
  }
 },
 "nbformat": 4,
 "nbformat_minor": 2
}
